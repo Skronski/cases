{
 "cells": [
  {
   "cell_type": "code",
   "execution_count": 22,
   "metadata": {},
   "outputs": [],
   "source": [
    "import numpy as np\n",
    "import pandas as pd\n",
    "import os\n",
    "from datetime import date"
   ]
  },
  {
   "cell_type": "markdown",
   "metadata": {},
   "source": [
    "# Settings: \n",
    "- seting up working directory \n",
    "- reading the data"
   ]
  },
  {
   "cell_type": "code",
   "execution_count": 12,
   "metadata": {},
   "outputs": [
    {
     "name": "stdout",
     "output_type": "stream",
     "text": [
      "Current working directory: c:\\Kamil\\rekrutacje\\eon\\cases\\EON\\00_programs\n"
     ]
    }
   ],
   "source": [
    "cwd = os.getcwd()\n",
    "print(f'Current working directory: {cwd}')\n",
    "__root = \"c:\\\\Kamil\\\\rekrutacje\\\\eon\\\\cases\\\\\"\n",
    "__programs= str(__root + \"EON\\\\00_programs\\\\\")\n",
    "__input = str(__root + \"EON\\\\01_input\\\\\")\n",
    "__output = str(__root + \"EON\\\\02_output\\\\\")\n",
    "__temp = str(__root + \"EON\\\\03_temp\\\\\")\n"
   ]
  },
  {
   "cell_type": "code",
   "execution_count": 16,
   "metadata": {},
   "outputs": [],
   "source": [
    "df = pd.read_csv(str(__input + \"Results_RAW.csv\"), delimiter=\";\")"
   ]
  },
  {
   "cell_type": "markdown",
   "metadata": {},
   "source": [
    "# Basic information about the data"
   ]
  },
  {
   "cell_type": "code",
   "execution_count": 18,
   "metadata": {},
   "outputs": [
    {
     "name": "stdout",
     "output_type": "stream",
     "text": [
      "<class 'pandas.core.frame.DataFrame'>\n",
      "RangeIndex: 3546 entries, 0 to 3545\n",
      "Data columns (total 18 columns):\n",
      " #   Column              Non-Null Count  Dtype \n",
      "---  ------              --------------  ----- \n",
      " 0   QuestID             3546 non-null   int64 \n",
      " 1   InterviewDate       3546 non-null   object\n",
      " 2   InterviewLengthSec  3546 non-null   int64 \n",
      " 3   InterviewStatus     3546 non-null   int64 \n",
      " 4   AgeBands            3546 non-null   int64 \n",
      " 5   Region              3546 non-null   int64 \n",
      " 6   BA02R_271_PL        3546 non-null   int64 \n",
      " 7   BA02R_272_PL        3546 non-null   int64 \n",
      " 8   BA02R_273_PL        3546 non-null   int64 \n",
      " 9   BA02R_274_PL        3546 non-null   int64 \n",
      " 10  BA02R_279_PL        3546 non-null   int64 \n",
      " 11  BA02R_280_PL        3546 non-null   int64 \n",
      " 12  BA02R_282_PL        3546 non-null   int64 \n",
      " 13  BA02R_283_PL        3546 non-null   int64 \n",
      " 14  BA02R_284_PL        3546 non-null   int64 \n",
      " 15  BA02R_285_PL        3546 non-null   int64 \n",
      " 16  SU01R               3546 non-null   int64 \n",
      " 17  NPS01R              3546 non-null   int64 \n",
      "dtypes: int64(17), object(1)\n",
      "memory usage: 498.8+ KB\n"
     ]
    }
   ],
   "source": [
    "df.info()"
   ]
  },
  {
   "cell_type": "code",
   "execution_count": 19,
   "metadata": {},
   "outputs": [
    {
     "data": {
      "text/plain": [
       "(3546, 18)"
      ]
     },
     "execution_count": 19,
     "metadata": {},
     "output_type": "execute_result"
    }
   ],
   "source": [
    "df.shape"
   ]
  },
  {
   "cell_type": "code",
   "execution_count": 25,
   "metadata": {},
   "outputs": [
    {
     "data": {
      "text/html": [
       "<div>\n",
       "<style scoped>\n",
       "    .dataframe tbody tr th:only-of-type {\n",
       "        vertical-align: middle;\n",
       "    }\n",
       "\n",
       "    .dataframe tbody tr th {\n",
       "        vertical-align: top;\n",
       "    }\n",
       "\n",
       "    .dataframe thead th {\n",
       "        text-align: right;\n",
       "    }\n",
       "</style>\n",
       "<table border=\"1\" class=\"dataframe\">\n",
       "  <thead>\n",
       "    <tr style=\"text-align: right;\">\n",
       "      <th></th>\n",
       "      <th>QuestID</th>\n",
       "      <th>InterviewDate</th>\n",
       "      <th>InterviewLengthSec</th>\n",
       "      <th>InterviewStatus</th>\n",
       "      <th>AgeBands</th>\n",
       "      <th>Region</th>\n",
       "      <th>BA02R_271_PL</th>\n",
       "      <th>BA02R_272_PL</th>\n",
       "      <th>BA02R_273_PL</th>\n",
       "      <th>BA02R_274_PL</th>\n",
       "      <th>BA02R_279_PL</th>\n",
       "      <th>BA02R_280_PL</th>\n",
       "      <th>BA02R_282_PL</th>\n",
       "      <th>BA02R_283_PL</th>\n",
       "      <th>BA02R_284_PL</th>\n",
       "      <th>BA02R_285_PL</th>\n",
       "      <th>SU01R</th>\n",
       "      <th>NPS01R</th>\n",
       "    </tr>\n",
       "  </thead>\n",
       "  <tbody>\n",
       "    <tr>\n",
       "      <th>0</th>\n",
       "      <td>1</td>\n",
       "      <td>12.04.2020</td>\n",
       "      <td>107</td>\n",
       "      <td>1</td>\n",
       "      <td>3</td>\n",
       "      <td>911</td>\n",
       "      <td>0</td>\n",
       "      <td>1</td>\n",
       "      <td>1</td>\n",
       "      <td>1</td>\n",
       "      <td>0</td>\n",
       "      <td>1</td>\n",
       "      <td>1</td>\n",
       "      <td>1</td>\n",
       "      <td>0</td>\n",
       "      <td>0</td>\n",
       "      <td>552</td>\n",
       "      <td>0</td>\n",
       "    </tr>\n",
       "    <tr>\n",
       "      <th>1</th>\n",
       "      <td>2</td>\n",
       "      <td>07.04.2020</td>\n",
       "      <td>379</td>\n",
       "      <td>1</td>\n",
       "      <td>5</td>\n",
       "      <td>903</td>\n",
       "      <td>1</td>\n",
       "      <td>1</td>\n",
       "      <td>1</td>\n",
       "      <td>1</td>\n",
       "      <td>0</td>\n",
       "      <td>0</td>\n",
       "      <td>1</td>\n",
       "      <td>1</td>\n",
       "      <td>0</td>\n",
       "      <td>0</td>\n",
       "      <td>543</td>\n",
       "      <td>5</td>\n",
       "    </tr>\n",
       "    <tr>\n",
       "      <th>2</th>\n",
       "      <td>3</td>\n",
       "      <td>12.04.2020</td>\n",
       "      <td>384</td>\n",
       "      <td>1</td>\n",
       "      <td>3</td>\n",
       "      <td>901</td>\n",
       "      <td>0</td>\n",
       "      <td>1</td>\n",
       "      <td>0</td>\n",
       "      <td>0</td>\n",
       "      <td>0</td>\n",
       "      <td>0</td>\n",
       "      <td>0</td>\n",
       "      <td>0</td>\n",
       "      <td>0</td>\n",
       "      <td>0</td>\n",
       "      <td>542</td>\n",
       "      <td>2</td>\n",
       "    </tr>\n",
       "    <tr>\n",
       "      <th>3</th>\n",
       "      <td>4</td>\n",
       "      <td>03.04.2020</td>\n",
       "      <td>227</td>\n",
       "      <td>1</td>\n",
       "      <td>5</td>\n",
       "      <td>914</td>\n",
       "      <td>0</td>\n",
       "      <td>0</td>\n",
       "      <td>0</td>\n",
       "      <td>0</td>\n",
       "      <td>0</td>\n",
       "      <td>0</td>\n",
       "      <td>1</td>\n",
       "      <td>0</td>\n",
       "      <td>0</td>\n",
       "      <td>0</td>\n",
       "      <td>552</td>\n",
       "      <td>6</td>\n",
       "    </tr>\n",
       "    <tr>\n",
       "      <th>4</th>\n",
       "      <td>5</td>\n",
       "      <td>21.04.2020</td>\n",
       "      <td>176</td>\n",
       "      <td>1</td>\n",
       "      <td>2</td>\n",
       "      <td>907</td>\n",
       "      <td>1</td>\n",
       "      <td>1</td>\n",
       "      <td>1</td>\n",
       "      <td>1</td>\n",
       "      <td>0</td>\n",
       "      <td>1</td>\n",
       "      <td>1</td>\n",
       "      <td>1</td>\n",
       "      <td>0</td>\n",
       "      <td>0</td>\n",
       "      <td>541</td>\n",
       "      <td>0</td>\n",
       "    </tr>\n",
       "  </tbody>\n",
       "</table>\n",
       "</div>"
      ],
      "text/plain": [
       "   QuestID InterviewDate  InterviewLengthSec  InterviewStatus  AgeBands  \\\n",
       "0        1    12.04.2020                 107                1         3   \n",
       "1        2    07.04.2020                 379                1         5   \n",
       "2        3    12.04.2020                 384                1         3   \n",
       "3        4    03.04.2020                 227                1         5   \n",
       "4        5    21.04.2020                 176                1         2   \n",
       "\n",
       "   Region  BA02R_271_PL  BA02R_272_PL  BA02R_273_PL  BA02R_274_PL  \\\n",
       "0     911             0             1             1             1   \n",
       "1     903             1             1             1             1   \n",
       "2     901             0             1             0             0   \n",
       "3     914             0             0             0             0   \n",
       "4     907             1             1             1             1   \n",
       "\n",
       "   BA02R_279_PL  BA02R_280_PL  BA02R_282_PL  BA02R_283_PL  BA02R_284_PL  \\\n",
       "0             0             1             1             1             0   \n",
       "1             0             0             1             1             0   \n",
       "2             0             0             0             0             0   \n",
       "3             0             0             1             0             0   \n",
       "4             0             1             1             1             0   \n",
       "\n",
       "   BA02R_285_PL  SU01R  NPS01R  \n",
       "0             0    552       0  \n",
       "1             0    543       5  \n",
       "2             0    542       2  \n",
       "3             0    552       6  \n",
       "4             0    541       0  "
      ]
     },
     "execution_count": 25,
     "metadata": {},
     "output_type": "execute_result"
    }
   ],
   "source": [
    "df.head()"
   ]
  },
  {
   "cell_type": "markdown",
   "metadata": {},
   "source": [
    "- formatting dates"
   ]
  },
  {
   "cell_type": "code",
   "execution_count": 26,
   "metadata": {},
   "outputs": [],
   "source": [
    "df['InterviewDate'] = pd.to_datetime(df['InterviewDate'], format = '%d.%m.%Y')"
   ]
  },
  {
   "cell_type": "code",
   "execution_count": 27,
   "metadata": {},
   "outputs": [
    {
     "data": {
      "text/plain": [
       "0      2020-04-12\n",
       "1      2020-04-07\n",
       "2      2020-04-12\n",
       "3      2020-04-03\n",
       "4      2020-04-21\n",
       "          ...    \n",
       "3541   2020-06-12\n",
       "3542   2020-06-02\n",
       "3543   2020-06-04\n",
       "3544   2020-06-03\n",
       "3545   2020-06-17\n",
       "Name: InterviewDate, Length: 3546, dtype: datetime64[ns]"
      ]
     },
     "execution_count": 27,
     "metadata": {},
     "output_type": "execute_result"
    }
   ],
   "source": [
    "df['InterviewDate']"
   ]
  },
  {
   "cell_type": "code",
   "execution_count": null,
   "metadata": {},
   "outputs": [],
   "source": []
  }
 ],
 "metadata": {
  "kernelspec": {
   "display_name": "Python 3",
   "language": "python",
   "name": "python3"
  },
  "language_info": {
   "codemirror_mode": {
    "name": "ipython",
    "version": 3
   },
   "file_extension": ".py",
   "mimetype": "text/x-python",
   "name": "python",
   "nbconvert_exporter": "python",
   "pygments_lexer": "ipython3",
   "version": "3.12.1"
  }
 },
 "nbformat": 4,
 "nbformat_minor": 2
}
